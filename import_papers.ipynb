{
 "cells": [
  {
   "cell_type": "code",
   "execution_count": 1,
   "id": "9ff24d67-8474-425c-9852-d3b0a4154896",
   "metadata": {
    "tags": []
   },
   "outputs": [],
   "source": [
    "#!pip install pybtex\n",
    "#!pip install requests"
   ]
  },
  {
   "cell_type": "code",
   "execution_count": 2,
   "id": "130edce9-74f4-4c9e-9bc3-df667b346c0b",
   "metadata": {},
   "outputs": [],
   "source": [
    "from pybtex.database.input import bibtex\n",
    "import requests"
   ]
  },
  {
   "cell_type": "code",
   "execution_count": 3,
   "id": "1d0f8dd1-4df3-4878-b02c-800598957467",
   "metadata": {},
   "outputs": [],
   "source": [
    "#### User input ####\n",
    "arxiv_path = 'https://arxiv.org/pdf/' ## url path prefix for the arxiv papers"
   ]
  },
  {
   "cell_type": "code",
   "execution_count": 4,
   "id": "4ec7df8e-24c5-495a-8cd4-7ffde01866ca",
   "metadata": {
    "tags": []
   },
   "outputs": [],
   "source": [
    "parser = bibtex.Parser()\n",
    "bib_data = parser.parse_file('SF-bibtex.bib')"
   ]
  },
  {
   "cell_type": "code",
   "execution_count": 5,
   "id": "b518f2b1-54a1-4095-9c3b-615948459a27",
   "metadata": {
    "tags": []
   },
   "outputs": [
    {
     "name": "stdout",
     "output_type": "stream",
     "text": [
      "error: 'eprint'\n",
      "error: 'eprint'\n",
      "error: 'eprint'\n",
      "error: 'eprint'\n",
      "error: 'eprint'\n",
      "error: 'eprint'\n",
      "error: 'eprint'\n",
      "error: 'eprint'\n",
      "8\n"
     ]
    }
   ],
   "source": [
    "count = 0\n",
    "\n",
    "## loop over all bib entries\n",
    "for entry in bib_data.entries:\n",
    "    try:\n",
    "        ## create the url and donwnload the pdf\n",
    "        url = arxiv_path + bib_data.entries[entry].fields['eprint']\n",
    "        response = requests.get(url)\n",
    "        \n",
    "        ## create the path to store the paper PDF and write it to the 'papers' folder\n",
    "        paper_name = 'astro_papers/{name}.pdf'.format(name = bib_data.entries[entry].fields['eprint'])\n",
    "        with open(paper_name, 'wb') as f:\n",
    "            f.write(response.content)\n",
    "            \n",
    "    except Exception as error:\n",
    "        ## Catch and print the error\n",
    "        print(\"error: {err}\".format(err = error))\n",
    "        count += 1\n",
    "        \n",
    "print(count) ## print the number of failed downloads"
   ]
  }
 ],
 "metadata": {
  "kernelspec": {
   "display_name": "Python 3 (ipykernel)",
   "language": "python",
   "name": "python3"
  },
  "language_info": {
   "codemirror_mode": {
    "name": "ipython",
    "version": 3
   },
   "file_extension": ".py",
   "mimetype": "text/x-python",
   "name": "python",
   "nbconvert_exporter": "python",
   "pygments_lexer": "ipython3",
   "version": "3.11.4"
  }
 },
 "nbformat": 4,
 "nbformat_minor": 5
}
